{
 "cells": [
  {
   "cell_type": "markdown",
   "source": [
    "# Cadeias de Markov\n",
    "\n",
    "## Introdução\n",
    "\n",
    "Primeiramente, para o melhor entendimento das cadeias de Markov, iremos realizar uma breve introdução a alguns conceitos\n",
    "importantes que fundamentaram as explicações a seguir.\n",
    "\n",
    "### Processos Estocásticos\n",
    "\n",
    "Para começar, precisamos definir o que é um processo estocásticos. Por alto, um processo estocástico consiste em uma ou mais variáveis\n",
    "aleatórias indexadas por um conjunto determinado. Uma analogia muito comum devido a suas aplicações são tratar esse índice como \"tempo\".\n",
    "Dessa forma, conseguimos classificar esses processos em dois grandes grupos: os processos estocásticos de tempo discreto, onde o índice\n",
    "é um conjunto finito de elementos, ou um subconjunto dos naturais, ou inteiros. E os processos estocásticos de tempo contínuo, onde o\n",
    "índice é geralmente um subconjunto dos números reais, ou outro que não seja contável. Além disso, podemos fazer algumas classificações a\n",
    "partir dos possíveis estados assumidos a partir da nossa variável aleatória: podemos ter um espaço discreto, ou seja, nossa V.A. pode\n",
    "assumir valores finitos ou contáveis. Em contrapartida, podemos ter um espaço contínuo, onde nossa V.A. pode assumir um subconjunto de\n",
    "valores contínuos ou não contáveis, como um subconjunto dos números reais.\n",
    "\n",
    "### Processo de Markov\n",
    "\n",
    "Sabendo, então, o que são processos estocásticos, temos um sub-caso particular dos processos estocásticos: o processo de Markov. Os\n",
    "processos de Markov se diferenciam por serem processos estocásticos onde o conjunto de estados anteriores não têm influência nos estados\n",
    "seguintes, a única informação que impacta o próximo estado é o estado atual.\n",
    "\n",
    "Os processos de Markov estão sujeitos às mesmas classificações dos processos estocásticos (até mesmo porque são um). No nosso caso,\n",
    "estaremos interessados em analisar os processos de Markov de tempo discreto, também chamados \"Cadeias de Markov\". Além disso,\n",
    "por questões de simplicidade, concentraremos as nossas atenções nas cadeias de Markov de espaço discreto.\n",
    "\n",
    "## Visualizando cadeias de Markov\n",
    "\n",
    "De modo a compreender melhor as cadeias de Markov, tomaremos um exemplo simples para ilustrar os principais conceitos associados. Digamos\n",
    "que temos conhecimento sobre o comportamento de um mercado de ações específico: sabemos que, quando as ações estão em alta, temos uma chance\n",
    "$p$ de que elas ficarão em baixa na semana seguinte. Caso elas estejam em baixa, temos uma chance $w$ de que elas ficarão em alta na semana\n",
    "seguinte.\n",
    "\n",
    "Uma das visualizações mais comuns para as transições nas cadeias de Markov são os diagramas de transição. Esses consistem de um grafo\n",
    "direcionado, onde cada nodo é um estado e as conexões são as transições de estado onde seus pesos são a probabilidade de aquela transição\n",
    "ocorrer. Segue um exemplo para o nosso exemplo atual:\n",
    "\n",
    "![Imagem Aqui :)](assets/Diagrama%20de%20Transições-No-BG.png)\n",
    "\n",
    "Podemos notar que a soma das conexões de saída de todos os nodos sempre resultarão em $1$. Para isso, sempre que o estado pode se manter igual,\n",
    "realizamos uma conexão do nó com si mesmo.\n",
    "\n",
    "O diagrama de transição é uma boa alternativa para visualizar como o estado varia a partir de um certo estado. Porém, muitas vezes é interessante\n",
    "analisarmos quais as probabilidades de um certo estado em um certo tempo futuro. Para isso, temos uma das visualizações alternativas: as árvores\n",
    "de transição.\n",
    "\n",
    "![Imagem Aqui :)](assets/Árvore%20de%20Transições-No-BG.png)\n",
    "\n",
    "Nas árvores de transição, temos as probabilidades cumulativas de se obter um dado estado após um tempo determinado e um estado inicial.\n",
    "\n",
    "## Desafios Computacionais\n",
    "\n",
    "As cadeias de Markov têm várias aplicações interessantes no mundo real, como a modelagem de mercados financeiros e populações bacterianas. Porém,\n",
    "uma informação muito interessante para essas aplicações é prever as probabilidades de cada estado após um determinado período. Vimos logo agora\n",
    "a possibilidade de se obter essas informações a partir da construção de uma árvore de transições, mas isso muitas vezes é inviável computacionalmente,\n",
    "já que teria uma complexidade computacional exponencial com o tempo.\n",
    "\n",
    "É aqui onde começamos a ver algumas poderosas aplicações de álgebra linear para simplificar a computação desses valores. Primeiramente, vamos falar\n",
    "sobre as matrizes de transição:\n",
    "\n",
    "### Matrizes de Transição\n",
    "\n",
    "As matrizes de transição são uma representação das probabilidades de transição entre estados de forma matricial. Nela, temos cada coluna representando\n",
    "um estado inicial e as linhas, um estado final sendo cada valor da matriz a correspondente probabilidade de se transicionar de um determinado estado para\n",
    "outro, o que resulta numa matriz quadrada cuja soma de cada uma das colunas é sempre 1.\n",
    "\n",
    "Para o exemplo anterior, teremos a seguinte matriz de transição (sendo o índice 1 alta e 2 baixa):\n",
    "\n",
    "$$\n",
    "\\begin{bmatrix}\n",
    "1-p & w \\\\\n",
    "p & 1-w\\\\\n",
    "\\end{bmatrix}\n",
    "$$\n",
    "\n",
    "Podemos multiplicar essa matriz por um vetor com as probabilidades iniciais de cada estado para obter as probabilidades de se encontrar cada estado após\n",
    "uma transição. Notamos então que, repetindo essas multiplicações repetidamente, podemos a partir de um conjunto de probabilidades de valores iniciais,\n",
    "prever as probabilidades de se encontrar cada um dos estados após qualquer período estabelecido. Ainda melhor, podemos agrupar essas multiplicações\n",
    "numa exponenciação da matriz, possibilitando reduzir a complexidade original de calcular as probabilidades de cada estado no futuro de exponenciação para\n",
    "quadrática no número de estados e logarítmica com o tempo.\n",
    "\n",
    "Por exemplo, vamos calcular as probabilidades de se encontrar um mercado em alta e em baixa após 24 semanas, sabendo que o mercado está atualmente em baixa.\n",
    "\n",
    "\n",
    "$$\n",
    "\\begin{bmatrix}\n",
    "1-p & w \\\\\n",
    "p & 1-w\\\\\n",
    "\\end{bmatrix}^{24}\n",
    "\\cdot\n",
    "\\begin{bmatrix}\n",
    "0 \\\\\n",
    "1 \\\\\n",
    "\\end{bmatrix}\n",
    "=\n",
    "\\begin{bmatrix}\n",
    "0 \\\\\n",
    "1 \\\\\n",
    "\\end{bmatrix}\n",
    "$$\n",
    "\n",
    "A fim de simplificar a visualização do resultado, vamos assumir $p = 0.6$ e $w = 0.5$. Dessa forma teremos:\n",
    "\n",
    "$$\n",
    "\\left[\\begin{matrix}0.4545\\dots & 0.4545\\dots\\\\0.5454\\dots & 0.5454\\dots\\end{matrix}\\right] \\cdot \\left[\\begin{matrix}0\\\\1\\end{matrix}\\right] = \\left[\\begin{matrix}0.4545\\dots \\\\ 0.5454\\dots \\end{matrix}\\right]\n",
    "$$\n",
    "\n",
    "### Estado Estável\n",
    "\n",
    "Um comportamento interessante nas cadeias de Markov é a tendência a um estado estável, ou seja, uma convergência nas probabilidades de cada estado a medida\n",
    "que $t \\to \\infty$. Podemos definir isso matematicamente como $Tp = p$, onde $T$ é a matriz de transição e $p$ um vetor de probabilidades. Podemos então fazer\n",
    "a seguinte manipulação:\n",
    "\n",
    "$$\n",
    "Tp - p = 0 \\\\\n",
    "(T - I)p = 0\n",
    "$$\n",
    "\n",
    "Permitindo que encontremos uma equação para determinar um conjunto de soluções para $p$ onde teremos um estado estável. Assim, podemos pegar qualquer uma das soluções possíveis\n",
    "e normalizá-la para ter soma $1$ (condição para ser um vetor de probabilidades).\n",
    "\n",
    "Vamos calcular o estado estável para nosso exemplo anterior:\n",
    "\n",
    "$$\n",
    "\\left[\\begin{matrix}- 0.6 x + 0.5 y\\\\0.6 x - 0.5 y\\end{matrix}\\right] = \\left[\\begin{matrix}0\\\\0\\end{matrix}\\right]\n",
    "$$\n",
    "\n",
    "Resultando em:\n",
    "\n",
    "$$\n",
    "x = 0.833\\dots y\n",
    "$$\n",
    "\n",
    "Obtendo uma solução válida:\n",
    "\n",
    "$$\n",
    "\\left[\\begin{matrix}0.833\\dots\\\\1\\end{matrix}\\right]\n",
    "$$\n",
    "\n",
    "Normalizando-a:\n",
    "\n",
    "$$\n",
    "\\left[\\begin{matrix}0.4545\\dots\\\\0.5454\\dots\\end{matrix}\\right]\n",
    "$$\n",
    "\n",
    "Coincidindo com o resultado que obtemos anteriormente para $24$ semanas.\n",
    "\n"
   ],
   "metadata": {
    "collapsed": false
   }
  },
  {
   "cell_type": "markdown",
   "source": [
    "## Dependências"
   ],
   "metadata": {
    "collapsed": false
   }
  },
  {
   "cell_type": "code",
   "execution_count": null,
   "outputs": [],
   "source": [
    "# Load data from github when inside colab\n",
    "![ \"$(pwd)\" = \"/content\" ] && git clone https://github.com/DanielHLelis/USP-ALG-LIN-PF.git git_data\n",
    "![ \"$(pwd)\" = \"/content\" ] && mv git_data/* ./"
   ],
   "metadata": {
    "collapsed": false
   }
  },
  {
   "cell_type": "code",
   "execution_count": 1,
   "outputs": [
    {
     "name": "stdout",
     "output_type": "stream",
     "text": [
      "Requirement already satisfied: pip in ./venv/lib/python3.10/site-packages (22.3.1)\r\n",
      "Requirement already satisfied: pandas in ./venv/lib/python3.10/site-packages (1.5.2)\r\n",
      "Requirement already satisfied: numpy>=1.21.0 in ./venv/lib/python3.10/site-packages (from pandas) (1.23.5)\r\n",
      "Requirement already satisfied: pytz>=2020.1 in ./venv/lib/python3.10/site-packages (from pandas) (2022.6)\r\n",
      "Requirement already satisfied: python-dateutil>=2.8.1 in ./venv/lib/python3.10/site-packages (from pandas) (2.8.2)\r\n",
      "Requirement already satisfied: six>=1.5 in ./venv/lib/python3.10/site-packages (from python-dateutil>=2.8.1->pandas) (1.16.0)\r\n",
      "Requirement already satisfied: numpy in ./venv/lib/python3.10/site-packages (1.23.5)\r\n",
      "Requirement already satisfied: scipy in ./venv/lib/python3.10/site-packages (1.9.3)\r\n",
      "Requirement already satisfied: numpy<1.26.0,>=1.18.5 in ./venv/lib/python3.10/site-packages (from scipy) (1.23.5)\r\n",
      "Requirement already satisfied: matplotlib in ./venv/lib/python3.10/site-packages (3.6.2)\r\n",
      "Requirement already satisfied: python-dateutil>=2.7 in ./venv/lib/python3.10/site-packages (from matplotlib) (2.8.2)\r\n",
      "Requirement already satisfied: contourpy>=1.0.1 in ./venv/lib/python3.10/site-packages (from matplotlib) (1.0.6)\r\n",
      "Requirement already satisfied: fonttools>=4.22.0 in ./venv/lib/python3.10/site-packages (from matplotlib) (4.38.0)\r\n",
      "Requirement already satisfied: packaging>=20.0 in ./venv/lib/python3.10/site-packages (from matplotlib) (21.3)\r\n",
      "Requirement already satisfied: pyparsing>=2.2.1 in ./venv/lib/python3.10/site-packages (from matplotlib) (3.0.9)\r\n",
      "Requirement already satisfied: kiwisolver>=1.0.1 in ./venv/lib/python3.10/site-packages (from matplotlib) (1.4.4)\r\n",
      "Requirement already satisfied: numpy>=1.19 in ./venv/lib/python3.10/site-packages (from matplotlib) (1.23.5)\r\n",
      "Requirement already satisfied: cycler>=0.10 in ./venv/lib/python3.10/site-packages (from matplotlib) (0.11.0)\r\n",
      "Requirement already satisfied: pillow>=6.2.0 in ./venv/lib/python3.10/site-packages (from matplotlib) (9.3.0)\r\n",
      "Requirement already satisfied: six>=1.5 in ./venv/lib/python3.10/site-packages (from python-dateutil>=2.7->matplotlib) (1.16.0)\r\n",
      "Requirement already satisfied: seaborn in ./venv/lib/python3.10/site-packages (0.12.1)\r\n",
      "Requirement already satisfied: pandas>=0.25 in ./venv/lib/python3.10/site-packages (from seaborn) (1.5.2)\r\n",
      "Requirement already satisfied: numpy>=1.17 in ./venv/lib/python3.10/site-packages (from seaborn) (1.23.5)\r\n",
      "Requirement already satisfied: matplotlib!=3.6.1,>=3.1 in ./venv/lib/python3.10/site-packages (from seaborn) (3.6.2)\r\n",
      "Requirement already satisfied: cycler>=0.10 in ./venv/lib/python3.10/site-packages (from matplotlib!=3.6.1,>=3.1->seaborn) (0.11.0)\r\n",
      "Requirement already satisfied: kiwisolver>=1.0.1 in ./venv/lib/python3.10/site-packages (from matplotlib!=3.6.1,>=3.1->seaborn) (1.4.4)\r\n",
      "Requirement already satisfied: pyparsing>=2.2.1 in ./venv/lib/python3.10/site-packages (from matplotlib!=3.6.1,>=3.1->seaborn) (3.0.9)\r\n",
      "Requirement already satisfied: pillow>=6.2.0 in ./venv/lib/python3.10/site-packages (from matplotlib!=3.6.1,>=3.1->seaborn) (9.3.0)\r\n",
      "Requirement already satisfied: python-dateutil>=2.7 in ./venv/lib/python3.10/site-packages (from matplotlib!=3.6.1,>=3.1->seaborn) (2.8.2)\r\n",
      "Requirement already satisfied: packaging>=20.0 in ./venv/lib/python3.10/site-packages (from matplotlib!=3.6.1,>=3.1->seaborn) (21.3)\r\n",
      "Requirement already satisfied: contourpy>=1.0.1 in ./venv/lib/python3.10/site-packages (from matplotlib!=3.6.1,>=3.1->seaborn) (1.0.6)\r\n",
      "Requirement already satisfied: fonttools>=4.22.0 in ./venv/lib/python3.10/site-packages (from matplotlib!=3.6.1,>=3.1->seaborn) (4.38.0)\r\n",
      "Requirement already satisfied: pytz>=2020.1 in ./venv/lib/python3.10/site-packages (from pandas>=0.25->seaborn) (2022.6)\r\n",
      "Requirement already satisfied: six>=1.5 in ./venv/lib/python3.10/site-packages (from python-dateutil>=2.7->matplotlib!=3.6.1,>=3.1->seaborn) (1.16.0)\r\n",
      "Requirement already satisfied: sympy in ./venv/lib/python3.10/site-packages (1.11.1)\r\n",
      "Requirement already satisfied: mpmath>=0.19 in ./venv/lib/python3.10/site-packages (from sympy) (1.2.1)\r\n"
     ]
    }
   ],
   "source": [
    "import sys\n",
    "!\"{sys.executable}\" -m pip install --upgrade pip\n",
    "!\"{sys.executable}\" -m pip install --upgrade pandas\n",
    "!\"{sys.executable}\" -m pip install --upgrade numpy\n",
    "!\"{sys.executable}\" -m pip install --upgrade scipy\n",
    "!\"{sys.executable}\" -m pip install --upgrade matplotlib\n",
    "!\"{sys.executable}\" -m pip install --upgrade seaborn\n",
    "!\"{sys.executable}\" -m pip install --upgrade sympy"
   ],
   "metadata": {
    "collapsed": false
   }
  },
  {
   "cell_type": "markdown",
   "source": [
    "## Algumas demonstrações de Cadeias de Markov"
   ],
   "metadata": {
    "collapsed": false
   }
  },
  {
   "cell_type": "markdown",
   "source": [
    "### Geração de Texto\n",
    "\n",
    "Uma aplicação que acho divertida das cadeias de Markov são geradores de texto. Existem algumas técnicas para se construir\n",
    "um gerador de textos a partir de cadeias de Markov, nessa implementação seguirei a partir da construção de n-gramas. N-gramas\n",
    "são conjuntos de $n$ caracteres, dividiremos nossos textos em n-gramas sobrepostos, onde cada n-grama será um estado da nossa\n",
    "cadeia.\n",
    "\n",
    "Aqui estou usando um dataset de tweets de um político brasileiro que se encontra muito quieto nos últimos dias. Por isso, geraremos\n",
    "alguns tweets dele para matar a saudade. /s\n",
    "\n",
    "Quanto maior o tamanho dos n-gramas, maior a coerência do texto, ao custo de menor variabilidade. Como nosso dataset é relativamente grande\n",
    "conseguimos usar tamanhos maiores sem muito prejuízo."
   ],
   "metadata": {
    "collapsed": false
   }
  },
  {
   "cell_type": "code",
   "execution_count": 2,
   "outputs": [
    {
     "data": {
      "text/plain": "            date                                               text  likes  \\\n4086         NaN  Em 2019, portos do Paraná reduziram em 46% o t...  18620   \n8581         NaN  Se governar é entregar ministérios estatais e ...   4191   \n6271         NaN  Bolsonaro alerta q nos livramos do nazismo em ...    176   \n4557         NaN  Estarei hoje no Jornal da Record, após às 21h4...  42095   \n521   2020-08-09  - A desinformação mata mais até que o próprio ...  19596   \n8761         NaN  - Major Vitor Hugo e Andreia em Goiás. \n- A ju...   2566   \n2739         NaN  - Obrigado China pela recepção!\n- Partindo par...  25743   \n266   2020-09-12  - Em março fui muito criticado por anunciar a ...    181   \n9886         NaN  \"Quem pariu Bolsonaro.\": Porta voz do PT, Paul...   1440   \n2017  2020-02-21  O turismo no Brasil tem resultados inéditos de...  20800   \n\n      retweets                                               link  \\\n4086      2639  https://twitter.com/jairbolsonaro/status/11177...   \n8581      1169  https://twitter.com/jairbolsonaro/status/99032...   \n6271       215  https://twitter.com/jairbolsonaro/status/53267...   \n4557      3424  https://twitter.com/jairbolsonaro/status/10958...   \n521       4405  https://twitter.com/jairbolsonaro/status/12925...   \n8761       415  https://twitter.com/jairbolsonaro/status/96752...   \n2739      3620  https://twitter.com/jairbolsonaro/status/11878...   \n266         35  https://twitter.com/jairbolsonaro/status/13048...   \n9886       326  https://twitter.com/jairbolsonaro/status/89238...   \n2017      3577  https://twitter.com/jairbolsonaro/status/12309...   \n\n                                           text_cleaned  text_len  \n4086  em 2019, portos do paraná reduziram em 46% o t...       156  \n8581  se governar é entregar ministérios estatais e ...       128  \n6271  bolsonaro alerta q nos livramos do nazismo em ...       113  \n4557  estarei hoje no jornal da record, após às 21h4...        63  \n521   a desinformação mata mais até que o próprio ví...       174  \n8761  major vitor hugo e andreia em goiás. \na juvent...        70  \n2739  obrigado china pela recepção!\npartindo para os...        62  \n266   em março fui muito criticado por anunciar a de...        94  \n9886  \"quem pariu bolsonaro.\": porta voz do pt, paul...        99  \n2017  o turismo no brasil tem resultados inéditos de...       280  ",
      "text/html": "<div>\n<style scoped>\n    .dataframe tbody tr th:only-of-type {\n        vertical-align: middle;\n    }\n\n    .dataframe tbody tr th {\n        vertical-align: top;\n    }\n\n    .dataframe thead th {\n        text-align: right;\n    }\n</style>\n<table border=\"1\" class=\"dataframe\">\n  <thead>\n    <tr style=\"text-align: right;\">\n      <th></th>\n      <th>date</th>\n      <th>text</th>\n      <th>likes</th>\n      <th>retweets</th>\n      <th>link</th>\n      <th>text_cleaned</th>\n      <th>text_len</th>\n    </tr>\n  </thead>\n  <tbody>\n    <tr>\n      <th>4086</th>\n      <td>NaN</td>\n      <td>Em 2019, portos do Paraná reduziram em 46% o t...</td>\n      <td>18620</td>\n      <td>2639</td>\n      <td>https://twitter.com/jairbolsonaro/status/11177...</td>\n      <td>em 2019, portos do paraná reduziram em 46% o t...</td>\n      <td>156</td>\n    </tr>\n    <tr>\n      <th>8581</th>\n      <td>NaN</td>\n      <td>Se governar é entregar ministérios estatais e ...</td>\n      <td>4191</td>\n      <td>1169</td>\n      <td>https://twitter.com/jairbolsonaro/status/99032...</td>\n      <td>se governar é entregar ministérios estatais e ...</td>\n      <td>128</td>\n    </tr>\n    <tr>\n      <th>6271</th>\n      <td>NaN</td>\n      <td>Bolsonaro alerta q nos livramos do nazismo em ...</td>\n      <td>176</td>\n      <td>215</td>\n      <td>https://twitter.com/jairbolsonaro/status/53267...</td>\n      <td>bolsonaro alerta q nos livramos do nazismo em ...</td>\n      <td>113</td>\n    </tr>\n    <tr>\n      <th>4557</th>\n      <td>NaN</td>\n      <td>Estarei hoje no Jornal da Record, após às 21h4...</td>\n      <td>42095</td>\n      <td>3424</td>\n      <td>https://twitter.com/jairbolsonaro/status/10958...</td>\n      <td>estarei hoje no jornal da record, após às 21h4...</td>\n      <td>63</td>\n    </tr>\n    <tr>\n      <th>521</th>\n      <td>2020-08-09</td>\n      <td>- A desinformação mata mais até que o próprio ...</td>\n      <td>19596</td>\n      <td>4405</td>\n      <td>https://twitter.com/jairbolsonaro/status/12925...</td>\n      <td>a desinformação mata mais até que o próprio ví...</td>\n      <td>174</td>\n    </tr>\n    <tr>\n      <th>8761</th>\n      <td>NaN</td>\n      <td>- Major Vitor Hugo e Andreia em Goiás. \n- A ju...</td>\n      <td>2566</td>\n      <td>415</td>\n      <td>https://twitter.com/jairbolsonaro/status/96752...</td>\n      <td>major vitor hugo e andreia em goiás. \na juvent...</td>\n      <td>70</td>\n    </tr>\n    <tr>\n      <th>2739</th>\n      <td>NaN</td>\n      <td>- Obrigado China pela recepção!\n- Partindo par...</td>\n      <td>25743</td>\n      <td>3620</td>\n      <td>https://twitter.com/jairbolsonaro/status/11878...</td>\n      <td>obrigado china pela recepção!\npartindo para os...</td>\n      <td>62</td>\n    </tr>\n    <tr>\n      <th>266</th>\n      <td>2020-09-12</td>\n      <td>- Em março fui muito criticado por anunciar a ...</td>\n      <td>181</td>\n      <td>35</td>\n      <td>https://twitter.com/jairbolsonaro/status/13048...</td>\n      <td>em março fui muito criticado por anunciar a de...</td>\n      <td>94</td>\n    </tr>\n    <tr>\n      <th>9886</th>\n      <td>NaN</td>\n      <td>\"Quem pariu Bolsonaro.\": Porta voz do PT, Paul...</td>\n      <td>1440</td>\n      <td>326</td>\n      <td>https://twitter.com/jairbolsonaro/status/89238...</td>\n      <td>\"quem pariu bolsonaro.\": porta voz do pt, paul...</td>\n      <td>99</td>\n    </tr>\n    <tr>\n      <th>2017</th>\n      <td>2020-02-21</td>\n      <td>O turismo no Brasil tem resultados inéditos de...</td>\n      <td>20800</td>\n      <td>3577</td>\n      <td>https://twitter.com/jairbolsonaro/status/12309...</td>\n      <td>o turismo no brasil tem resultados inéditos de...</td>\n      <td>280</td>\n    </tr>\n  </tbody>\n</table>\n</div>"
     },
     "execution_count": 2,
     "metadata": {},
     "output_type": "execute_result"
    }
   ],
   "source": [
    "import pandas as pd\n",
    "\n",
    "# Carregamento do dataset #\n",
    "df = pd.read_csv('datasets/tweets.csv')\n",
    "df.text = df.text.astype(\"string\")\n",
    "\n",
    "# Tratamento de texto #\n",
    "\n",
    "# Remoção de URLs\n",
    "url_regex = (\"\\\\.?\\\\s?((http|https)://|pic\\.)(www.)?\" +\n",
    "         \"[a-zA-Z0-9@:%._\\\\+~#?&//=]\" +\n",
    "         \"{1,256}\\\\.[a-z]\" +\n",
    "         \"{2,6}\\\\b([-a-zA-Z0-9@:%\" +\n",
    "         \"._\\\\+~#?&//=]*)\")\n",
    "# Remoção de indicadores de retweets\n",
    "rt_regex = r'rt @\\w+?:\\s?'\n",
    "# Remoção de indicadores de reply\n",
    "reply_regex = r'\\s?-\\s'\n",
    "# Remoção de caracteres indesejados\n",
    "symbols_regex = r'[)(]'\n",
    "\n",
    "\n",
    "# Conversão para minúsculo, seguido das remoções e outras limpezas\n",
    "df['text_cleaned'] = df.text.str.lower()\\\n",
    "    .str.replace(url_regex, \"\", regex=True)\\\n",
    "    .str.replace(rt_regex, \"\\n\", regex=True)\\\n",
    "    .str.replace(reply_regex, \"\\n\", regex=True)\\\n",
    "    .str.replace(symbols_regex, \"\", regex=True)\\\n",
    "    .str.strip()\n",
    "\n",
    "# Filtragem dos tweets menores que 60 caracteres\n",
    "df['text_len'] = df.text_cleaned.str.len()\n",
    "df_filtered = df[df['text_len'] >= 60]\n",
    "\n",
    "# Alguns tweets\n",
    "df_filtered.sample(10)"
   ],
   "metadata": {
    "collapsed": false
   }
  },
  {
   "cell_type": "code",
   "execution_count": 3,
   "outputs": [],
   "source": [
    "from random import choice\n",
    "\n",
    "def build_markov_text_generator(texts, n_gram_size = 10):\n",
    "    starting_grams = [] # Possíveis estados iniciais\n",
    "    markov_transitions = {} # Transições de estado\n",
    "    allowed_starts = [chr(a) for a in range(ord('a'), ord('z') + 1)] + ['@'] # Filtragem de inícios permitidos\n",
    "\n",
    "    for text in texts:\n",
    "        # Carrega primeiro n-grama\n",
    "        starting_gram = text[:n_gram_size]\n",
    "        # Adiciona n-grama na lista de inícios\n",
    "        if starting_gram[0] in allowed_starts:\n",
    "            starting_grams.append(starting_gram)\n",
    "        # Computa transições dos n-gramas\n",
    "        for i in range(len(text) - n_gram_size + 1):\n",
    "            # Carrega n-grama atual\n",
    "            next_idx = i + n_gram_size\n",
    "            current_gram = text[i:next_idx]\n",
    "            # Próximo elemento\n",
    "            next_letter = None if next_idx == len(text) else text[next_idx]\n",
    "            # Adiciona nas transições de estado\n",
    "            if current_gram not in markov_transitions:\n",
    "                markov_transitions[current_gram] = [next_letter]\n",
    "            else:\n",
    "                markov_transitions[current_gram].append(next_letter)\n",
    "\n",
    "    return markov_transitions, starting_grams\n",
    "\n",
    "def generate_markov_text(markov_transitions, starting_grams, start=''):\n",
    "    n_gram_size = len(starting_grams[0])\n",
    "    current = start if len(start) >= n_gram_size else choice(starting_grams)\n",
    "    next = choice(markov_transitions[current[-n_gram_size:]])\n",
    "    while next != None:\n",
    "        current += next\n",
    "        next = choice(markov_transitions[current[-n_gram_size:]])\n",
    "    return current\n"
   ],
   "metadata": {
    "collapsed": false
   }
  },
  {
   "cell_type": "code",
   "execution_count": 4,
   "outputs": [
    {
     "data": {
      "text/plain": "2.325311335287979"
     },
     "execution_count": 4,
     "metadata": {},
     "output_type": "execute_result"
    }
   ],
   "source": [
    "import numpy as np\n",
    "\n",
    "transitions, startings = build_markov_text_generator(df_filtered.text_cleaned, 8)\n",
    "np.array([len(t) for t in transitions.values()]).mean()"
   ],
   "metadata": {
    "collapsed": false
   }
  },
  {
   "cell_type": "code",
   "execution_count": 5,
   "outputs": [
    {
     "data": {
      "text/plain": "<IPython.core.display.Markdown object>",
      "text/markdown": "> depois do livre mercado. a crianças em paz! …"
     },
     "metadata": {},
     "output_type": "display_data"
    },
    {
     "data": {
      "text/plain": "<IPython.core.display.Markdown object>",
      "text/markdown": "> inocentes seriam assim. não enxergam o atual sistema de saúde e educação profissional , aumento de quase 13.000 que atualmente em mal estar, devemos de olho e confiança! 🇧🇷 via: @taoquei1\n> youtube:"
     },
     "metadata": {},
     "output_type": "display_data"
    },
    {
     "data": {
      "text/plain": "<IPython.core.display.Markdown object>",
      "text/markdown": "> depois de hamamatsu, bolsonaro, nem as armas de fogo. na terça 18, o pl será votada na george soros: via @youtube"
     },
     "metadata": {},
     "output_type": "display_data"
    },
    {
     "data": {
      "text/plain": "<IPython.core.display.Markdown object>",
      "text/markdown": "> molecada é o combustíveis na plataforma única pessoa! obrigado sempre tão vigilantes com israel, atingindo civis judeus"
     },
     "metadata": {},
     "output_type": "display_data"
    },
    {
     "data": {
      "text/plain": "<IPython.core.display.Markdown object>",
      "text/markdown": "> a segurança e da live no facebook de @bolsonaro praia grande parte de nosso valor ser medidas em minas gerais;\n> nosso governo jair bolsonaro em entrevista ao divulgou a mídia brasil são recorra à 1a camara de vereador @carlosbolsonaro"
     },
     "metadata": {},
     "output_type": "display_data"
    },
    {
     "data": {
      "text/plain": "<IPython.core.display.Markdown object>",
      "text/markdown": "> muito além das manchetes."
     },
     "metadata": {},
     "output_type": "display_data"
    },
    {
     "data": {
      "text/plain": "<IPython.core.display.Markdown object>",
      "text/markdown": "> seguimos lutar por desviaram bilhões da pátria…"
     },
     "metadata": {},
     "output_type": "display_data"
    },
    {
     "data": {
      "text/plain": "<IPython.core.display.Markdown object>",
      "text/markdown": "> um gesto honroso que bem entender a alma, serenidade de notícia do facebook.\n> desculpem-me por ocasião do enfrentamento da questão por vir! lembranças armadas"
     },
     "metadata": {},
     "output_type": "display_data"
    },
    {
     "data": {
      "text/plain": "<IPython.core.display.Markdown object>",
      "text/markdown": "> mais um grande mídia"
     },
     "metadata": {},
     "output_type": "display_data"
    },
    {
     "data": {
      "text/plain": "<IPython.core.display.Markdown object>",
      "text/markdown": "> o ministério da ciência, contando a confiança, amigos e gente peço que pessoas ainda análise de maioria dos poderes p/ tal vc, cidadão, para a propositalmente o oposto ao autismo no nordeste.\n> um só brasil"
     },
     "metadata": {},
     "output_type": "display_data"
    }
   ],
   "source": [
    "from IPython.display import display, Markdown, Latex\n",
    "\n",
    "for i in range(10):\n",
    "    tweet = generate_markov_text(transitions, startings)\n",
    "    while len(tweet) < 20:\n",
    "        tweet = generate_markov_text(transitions, startings)\n",
    "    tweet = tweet.replace('$', '\\\\$')\n",
    "    tweet_lines = tweet.split('\\n')\n",
    "    tweet_lines = [t.strip() for t in tweet_lines]\n",
    "    tweet_lines = [t for t in tweet_lines if len(t) != 0]\n",
    "    md_tweet = \"> \" + \"\\n> \".join(tweet_lines)\n",
    "    display(Markdown(f'{md_tweet}'))"
   ],
   "metadata": {
    "collapsed": false
   }
  },
  {
   "cell_type": "markdown",
   "source": [
    "### Modelagem de Apostas\n",
    "\n",
    "Outra aplicação demonstrativa das cadeias de Markov são a modelagem de um sistema de apostas. Pela natureza das cadeias de Markov, definiremos uma estratégia simples de apostas e mediremos nossas\n",
    "chances de sucesso. Primeiramente, vamos definir nosso objetivo final como dobrar o nosso capital inicial. Assim, iremos apostar de unidade em unidade até que ou percamos tudo alcancemos nosso objetivo.\n",
    "\n",
    "Vamos definir um jogo onde temos uma chance $p = 0.49$ de dobrar nosso dinheiro. Em caso de derrota, perdemos todo o dinheiro apostado. Além disso, vamos definir um capital inicial de $50$ e um limite de 100 apostas."
   ],
   "metadata": {
    "collapsed": false
   }
  },
  {
   "cell_type": "code",
   "execution_count": 6,
   "outputs": [
    {
     "data": {
      "text/plain": "array([[9.93147323e-07],\n       [0.00000000e+00],\n       [1.25181976e-06],\n       [0.00000000e+00],\n       [3.67240132e-06],\n       [0.00000000e+00],\n       [9.30620034e-06],\n       [0.00000000e+00],\n       [2.22279196e-05],\n       [0.00000000e+00],\n       [5.05504873e-05],\n       [0.00000000e+00],\n       [1.09671720e-04],\n       [0.00000000e+00],\n       [2.27206340e-04],\n       [0.00000000e+00],\n       [4.49822739e-04],\n       [0.00000000e+00],\n       [8.51654026e-04],\n       [0.00000000e+00],\n       [1.54299671e-03],\n       [0.00000000e+00],\n       [2.67671270e-03],\n       [0.00000000e+00],\n       [4.44842132e-03],\n       [0.00000000e+00],\n       [7.08579804e-03],\n       [0.00000000e+00],\n       [1.08228529e-02],\n       [0.00000000e+00],\n       [1.58576017e-02],\n       [0.00000000e+00],\n       [2.22961975e-02],\n       [0.00000000e+00],\n       [3.00925802e-02],\n       [0.00000000e+00],\n       [3.89982275e-02],\n       [0.00000000e+00],\n       [4.85392378e-02],\n       [0.00000000e+00],\n       [5.80355854e-02],\n       [0.00000000e+00],\n       [6.66691827e-02],\n       [0.00000000e+00],\n       [7.35947673e-02],\n       [0.00000000e+00],\n       [7.80741874e-02],\n       [0.00000000e+00],\n       [7.96050538e-02],\n       [0.00000000e+00],\n       [7.80129528e-02],\n       [0.00000000e+00],\n       [7.34839424e-02],\n       [0.00000000e+00],\n       [6.65290142e-02],\n       [0.00000000e+00],\n       [5.78898415e-02],\n       [0.00000000e+00],\n       [4.84096968e-02],\n       [0.00000000e+00],\n       [3.89003410e-02],\n       [0.00000000e+00],\n       [3.00333515e-02],\n       [0.00000000e+00],\n       [2.22744774e-02],\n       [0.00000000e+00],\n       [1.58662353e-02],\n       [0.00000000e+00],\n       [1.08516823e-02],\n       [0.00000000e+00],\n       [7.12451955e-03],\n       [0.00000000e+00],\n       [4.48860763e-03],\n       [0.00000000e+00],\n       [2.71275432e-03],\n       [0.00000000e+00],\n       [1.57209728e-03],\n       [0.00000000e+00],\n       [8.73226827e-04],\n       [0.00000000e+00],\n       [4.64667307e-04],\n       [0.00000000e+00],\n       [2.36751168e-04],\n       [0.00000000e+00],\n       [1.15430915e-04],\n       [0.00000000e+00],\n       [5.38211517e-05],\n       [0.00000000e+00],\n       [2.39816469e-05],\n       [0.00000000e+00],\n       [1.02037898e-05],\n       [0.00000000e+00],\n       [4.14177767e-06],\n       [0.00000000e+00],\n       [1.60070820e-06],\n       [0.00000000e+00],\n       [5.83098219e-07],\n       [0.00000000e+00],\n       [1.83478504e-07],\n       [0.00000000e+00],\n       [1.34372028e-07]])"
     },
     "execution_count": 6,
     "metadata": {},
     "output_type": "execute_result"
    }
   ],
   "source": [
    "initial_capital = 50\n",
    "limit = 100\n",
    "p = 0.49\n",
    "\n",
    "# Building transition matrix #\n",
    "transition_matrix = np.zeros(shape=[initial_capital*2+1, initial_capital*2+1])\n",
    "# Finishing States\n",
    "transition_matrix[0][0] = 1\n",
    "transition_matrix[initial_capital*2][initial_capital*2] = 1\n",
    "# Other States\n",
    "for i in range(1, initial_capital*2):\n",
    "    transition_matrix[i+1][i] = p\n",
    "    transition_matrix[i-1][i] = 1 - p\n",
    "\n",
    "# Initial State Probability Vector\n",
    "initial_p_vector = np.zeros(shape=[initial_capital*2 + 1, 1])\n",
    "initial_p_vector[initial_capital] = 1\n",
    "\n",
    "# Prediction\n",
    "pred = np.linalg.matrix_power(transition_matrix, 100) @ initial_p_vector\n",
    "pred"
   ],
   "metadata": {
    "collapsed": false
   }
  },
  {
   "cell_type": "code",
   "execution_count": 7,
   "outputs": [
    {
     "name": "stdout",
     "output_type": "stream",
     "text": [
      "Chance de prejuízo: 54.007%\n",
      "Chance de ganho ou neutro: 45.993%\n"
     ]
    }
   ],
   "source": [
    "print(f\"Chance de prejuízo: {sum(pred[:50])[0] * 100:.3f}%\")\n",
    "print(f\"Chance de ganho ou neutro: {sum(pred[50:])[0] * 100:.3f}%\")"
   ],
   "metadata": {
    "collapsed": false
   }
  },
  {
   "cell_type": "markdown",
   "source": [
    "# Bônus: Recorrências Lineares\n",
    "\n",
    "Outra aplicação de álgebra linear que acho particularmente interessante é a solução de recorrências lineares a partir do uso de matrizes.\n",
    "\n",
    "É possível representar recorrências lineares como transformações sob um estado inicial. Permitindo resolver problemas de recorrência a\n",
    "partir da exponenciação de matrizes. Segue uma representação geral\n",
    "\n",
    "Seja uma $f(n+1) = a_n f(n) + \\cdots + a_{n-k} f(n-k)$ (uma recorrência linear que depende dos $k$ últimos termos), podemos representá-la pela matriz:\n",
    "\n",
    "$$\n",
    "\\begin{bmatrix}\n",
    "    a_n & a_{n-1} & a_{n-2} & \\cdots & a_{n-k + 1} & a_{n-k} \\\\\n",
    "    1 & 0 & 0 & \\cdots & 0 & 0 \\\\\n",
    "    0 & 1 & 0 & \\cdots & 0 & 0 \\\\\n",
    "    0 & 0 & 1 & \\cdots & 0 & 0 \\\\\n",
    "    \\vdots & \\vdots & \\vdots & \\ddots \\\\\n",
    "    0 & 0 & 0 & \\cdots & 1 & 0 \\\\\n",
    "\n",
    "\\end{bmatrix}\n",
    "$$\n",
    "\n",
    "Podemos interpretar essa matriz como a construção da combinação linear dos elementos anteriores sendo executada na primeira linha e um deslocamento dos\n",
    "demais elementos nas linhas seguintes (formando a diagonal deslocada de 1s).\n",
    "\n",
    "Dessa forma, ao multiplicá-la por um conjunto inicial de elementos, iremos obter:\n",
    "\n",
    "$$\n",
    "[M] \\cdot \\begin{bmatrix}\n",
    "f(n) \\\\\n",
    "f(n - 1) \\\\\n",
    "\\vdots \\\\\n",
    "f(n - k)\n",
    "\\end{bmatrix} = \\begin{bmatrix}\n",
    "f(n + 1) \\\\\n",
    "f(n) \\\\\n",
    "\\vdots \\\\\n",
    "f(n - k + 1)\n",
    "\\end{bmatrix}\n",
    "$$\n",
    "\n",
    "Isso nos permite simplificar a computação de recorrências lineares de $O(n\\cdot k)$ para $O(\\log_2(n) \\cdot k^3)$ (fazendo o uso do algoritmo de exponenciação rápida por divisão e conquista)."
   ],
   "metadata": {
    "collapsed": false
   }
  },
  {
   "cell_type": "code",
   "execution_count": 8,
   "outputs": [
    {
     "name": "stdout",
     "output_type": "stream",
     "text": [
      "N-ésima transformação de Fibonacci: n=28\n"
     ]
    },
    {
     "data": {
      "text/plain": "Matrix([\n[514229, 317811],\n[317811, 196418]])",
      "text/latex": "$\\displaystyle \\left[\\begin{matrix}514229 & 317811\\\\317811 & 196418\\end{matrix}\\right]$"
     },
     "metadata": {},
     "output_type": "display_data"
    },
    {
     "data": {
      "text/plain": "Matrix([\n[832040],\n[514229]])",
      "text/latex": "$\\displaystyle \\left[\\begin{matrix}832040\\\\514229\\end{matrix}\\right]$"
     },
     "metadata": {},
     "output_type": "display_data"
    },
    {
     "name": "stdout",
     "output_type": "stream",
     "text": [
      "fib(30)\n"
     ]
    },
    {
     "data": {
      "text/plain": "832040",
      "text/latex": "$\\displaystyle 832040$"
     },
     "metadata": {},
     "output_type": "display_data"
    }
   ],
   "source": [
    "import sympy as sp\n",
    "from IPython.display import display\n",
    "\n",
    "fib_mat = sp.Matrix([[1, 1], [1, 0]])\n",
    "fib_init = sp.Matrix([[1], [1]])\n",
    "\n",
    "# Exemplo n-ésimo número de Fibonacci\n",
    "n = 30\n",
    "mat_exp = fib_mat ** (n - 2)\n",
    "values = mat_exp @ fib_init\n",
    "result = values[0]\n",
    "\n",
    "print(f\"N-ésima transformação de Fibonacci: n={n-2}\")\n",
    "display(mat_exp)\n",
    "display(values)\n",
    "print(f\"fib({n})\")\n",
    "display(result)"
   ],
   "metadata": {
    "collapsed": false
   }
  },
  {
   "cell_type": "markdown",
   "source": [
    "## Exemplos Fibonacci\n",
    "\n",
    "![Números de Fibonacci](assets/fibs.png)"
   ],
   "metadata": {
    "collapsed": false
   }
  },
  {
   "cell_type": "markdown",
   "source": [
    "# Referências\n",
    "\n",
    "- <https://en.wikibooks.org/wiki/Linear_Algebra/Topic:_Markov_Chains>\n",
    "- <https://www.cs.bu.edu/fac/crovella/cs132-book/L11MarkovChains.html>\n",
    "- <https://en.wikibooks.org/wiki/Linear_Algebra/Topic:_Linear_Recurrences>"
   ],
   "metadata": {
    "collapsed": false
   }
  }
 ],
 "metadata": {
  "kernelspec": {
   "display_name": "Python 3",
   "language": "python",
   "name": "python3"
  },
  "language_info": {
   "codemirror_mode": {
    "name": "ipython",
    "version": 2
   },
   "file_extension": ".py",
   "mimetype": "text/x-python",
   "name": "python",
   "nbconvert_exporter": "python",
   "pygments_lexer": "ipython2",
   "version": "2.7.6"
  }
 },
 "nbformat": 4,
 "nbformat_minor": 0
}
