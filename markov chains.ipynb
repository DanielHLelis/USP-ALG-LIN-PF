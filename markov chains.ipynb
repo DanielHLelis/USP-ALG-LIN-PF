{
 "cells": [
  {
   "cell_type": "markdown",
   "source": [
    "# Cadeias de Markov\n",
    "\n",
    "## Introdução\n",
    "\n",
    "Primeiramente, para o melhor entendimento das cadeias de Markov, iremos realizar uma breve introdução a alguns conceitos\n",
    "importantes que fundamentaram as explicações a seguir.\n",
    "\n",
    "### Processos Estocásticos\n",
    "\n",
    "Para começar, precisamos definir o que é um processo estocásticos. Por alto, um processo estocástico consiste em uma ou mais variáveis\n",
    "aleatórias indexadas por um conjunto determinado. Uma analogia muito comum devido a suas aplicações são tratar esse índice como \"tempo\".\n",
    "Dessa forma, conseguimos classificar esses processos em dois grandes grupos: os processos estocásticos de tempo discreto, onde o índice\n",
    "é um conjunto finito de elementos, ou um subconjunto dos naturais, ou inteiros. E os processos estocásticos de tempo contínuo, onde o\n",
    "índice é geralmente um subconjunto dos números reais, ou outro que não seja contável. Além disso, podemos fazer algumas classificações a\n",
    "partir dos possíveis estados assumidos a partir da nossa variável aleatória: podemos ter um espaço discreto, ou seja, nossa V.A. pode\n",
    "assumir valores finitos ou contáveis. Em contrapartida, podemos ter um espaço contínuo, onde nossa V.A. pode assumir um subconjunto de\n",
    "valores contínuos ou não contáveis, como um subconjunto dos números reais.\n",
    "\n",
    "### Processo de Markov\n",
    "\n",
    "Sabendo, então, o que são processos estocásticos, temos um sub-caso particular dos processos estocásticos: o processo de Markov. Os\n",
    "processos de Markov se diferenciam por serem processos estocásticos onde o conjunto de estados anteriores não têm influência nos estados\n",
    "seguintes, a única informação que impacta o próximo estado é o estado atual.\n",
    "\n",
    "Os processos de Markov estão sujeitos às mesmas classificações dos processos estocásticos (até mesmo porque são um). No nosso caso,\n",
    "estaremos interessados em analisar os processos de Markov de tempo discreto, também chamados \"Cadeias de Markov\". Além disso,\n",
    "por questões de simplicidade, concentraremos as nossas atenções nas cadeias de Markov de espaço discreto.\n",
    "\n",
    "## Visualizando cadeias de Markov\n",
    "\n",
    "De modo a compreender melhor as cadeias de Markov, tomaremos um exemplo simples para ilustrar os principais conceitos associados. Digamos\n",
    "que temos conhecimento sobre o comportamento de um mercado de ações específico: sabemos que, quando as ações estão em alta, temos uma chance\n",
    "$p$ de que elas ficarão em baixa na semana seguinte. Caso elas estejam em baixa, temos uma chance $w$ de que elas ficarão em alta na semana\n",
    "seguinte.\n",
    "\n",
    "Uma das visualizações mais comuns para as transições nas cadeias de Markov são os diagramas de transição. Esses consistem de um grafo\n",
    "direcionado, onde cada nodo é um estado e as conexões são as transições de estado onde seus pesos são a probabilidade de aquela transição\n",
    "ocorrer. Segue um exemplo para o nosso exemplo atual:\n",
    "\n",
    "![Imagem Aqui :)](assets/Diagrama%20de%20Transições-No-BG.png)\n",
    "\n",
    "Podemos notar que a soma das conexões de saída de todos os nodos sempre resultarão em $1$. Para isso, sempre que o estado pode se manter igual,\n",
    "realizamos uma conexão do nó com si mesmo.\n",
    "\n",
    "O diagrama de transição é uma boa alternativa para visualizar como o estado varia a partir de um certo estado. Porém, muitas vezes é interessante\n",
    "analisarmos quais as probabilidades de um certo estado em um certo tempo futuro. Para isso, temos uma das visualizações alternativas: as árvores\n",
    "de transição.\n",
    "\n",
    "![Imagem Aqui :)](assets/Árvore%20de%20Transições-No-BG.png)\n",
    "\n",
    "Nas árvores de transição, temos as probabilidades cumulativas de se obter um dado estado após um tempo determinado e um estado inicial.\n",
    "\n",
    "## Desafios Computacionais\n",
    "\n",
    "As cadeias de Markov têm várias aplicações interessantes no mundo real, como a modelagem de mercados financeiros e populações bacterianas. Porém,\n",
    "uma informação muito interessante para essas aplicações é prever as probabilidades de cada estado após um determinado período. Vimos logo agora\n",
    "a possibilidade de se obter essas informações a partir da construção de uma árvore de transições, mas isso muitas vezes é inviável computacionalmente,\n",
    "já que teria uma complexidade computacional exponencial com o tempo.\n",
    "\n",
    "É aqui onde começamos a ver algumas poderosas aplicações de álgebra linear para simplificar a computação desses valores. Primeiramente, vamos falar\n",
    "sobre as matrizes de transição:\n",
    "\n",
    "### Matrizes de Transição\n",
    "\n",
    "As matrizes de transição são uma representação das probabilidades de transição entre estados de forma matricial. Nela, temos cada coluna representando\n",
    "um estado inicial e as linhas, um estado final sendo cada valor da matriz a correspondente probabilidade de se transicionar de um determinado estado para\n",
    "outro, o que resulta numa matriz quadrada cuja soma de cada uma das colunas é sempre 1.\n",
    "\n",
    "Para o exemplo anterior, teremos a seguinte matriz de transição (sendo o índice 1 alta e 2 baixa):\n",
    "\n",
    "$$\n",
    "\\begin{bmatrix}\n",
    "1-p & w \\\\\n",
    "p & 1-w\\\\\n",
    "\\end{bmatrix}\n",
    "$$\n",
    "\n",
    "Podemos multiplicar essa matriz por um vetor com as probabilidades iniciais de cada estado para obter as probabilidades de se encontrar cada estado após\n",
    "uma transição. Notamos então que, repetindo essas multiplicações repetidamente, podemos a partir de um conjunto de probabilidades de valores iniciais,\n",
    "prever as probabilidades de se encontrar cada um dos estados após qualquer período estabelecido. Ainda melhor, podemos agrupar essas multiplicações\n",
    "numa exponenciação da matriz, possibilitando reduzir a complexidade original de calcular as probabilidades de cada estado no futuro de exponenciação para\n",
    "quadrática no número de estados e logarítmica com o tempo.\n",
    "\n",
    "Por exemplo, vamos calcular as probabilidades de se encontrar um mercado em alta e em baixa após 24 semanas, sabendo que o mercado está atualmente em baixa.\n",
    "\n",
    "\n",
    "$$\n",
    "\\begin{bmatrix}\n",
    "1-p & w \\\\\n",
    "p & 1-w\\\\\n",
    "\\end{bmatrix}^{24}\n",
    "\\cdot\n",
    "\\begin{bmatrix}\n",
    "0 \\\\\n",
    "1 \\\\\n",
    "\\end{bmatrix}\n",
    "=\n",
    "\\begin{bmatrix}\n",
    "0 \\\\\n",
    "1 \\\\\n",
    "\\end{bmatrix}\n",
    "$$\n",
    "\n",
    "A fim de simplificar a visualização do resultado, vamos assumir $p = 0.6$ e $w = 0.5$. Dessa forma teremos:\n",
    "\n",
    "$$\n",
    "\\left[\\begin{matrix}0.4545\\dots & 0.4545\\dots\\\\0.5454\\dots & 0.5454\\dots\\end{matrix}\\right] \\cdot \\left[\\begin{matrix}0\\\\1\\end{matrix}\\right] = \\left[\\begin{matrix}0.4545\\dots \\\\ 0.5454\\dots \\end{matrix}\\right]\n",
    "$$\n",
    "\n",
    "### Estado Estável\n",
    "\n",
    "Um comportamento interessante nas cadeias de Markov é a tendência a um estado estável, ou seja, uma convergência nas probabilidades de cada estado a medida\n",
    "que $t \\to \\infty$. Podemos definir isso matematicamente como $Tp = p$, onde $T$ é a matriz de transição e $p$ um vetor de probabilidades. Podemos então fazer\n",
    "a seguinte manipulação:\n",
    "\n",
    "$$\n",
    "Tp - p = 0 \\\\\n",
    "(T - I)p = 0\n",
    "$$\n",
    "\n",
    "Permitindo que encontremos uma equação para determinar um conjunto de soluções para $p$ onde teremos um estado estável. Assim, podemos pegar qualquer uma das soluções possíveis\n",
    "e normalizá-la para ter soma $1$ (condição para ser um vetor de probabilidades).\n",
    "\n",
    "Vamos calcular o estado estável para nosso exemplo anterior:\n",
    "\n",
    "$$\n",
    "\\left[\\begin{matrix}- 0.6 x + 0.5 y\\\\0.6 x - 0.5 y\\end{matrix}\\right] = \\left[\\begin{matrix}0\\\\0\\end{matrix}\\right]\n",
    "$$\n",
    "\n",
    "Resultando em:\n",
    "\n",
    "$$\n",
    "x = 0.833\\dots y\n",
    "$$\n",
    "\n",
    "Obtendo uma solução válida:\n",
    "\n",
    "$$\n",
    "\\left[\\begin{matrix}0.833\\dots\\\\1\\end{matrix}\\right]\n",
    "$$\n",
    "\n",
    "Normalizando-a:\n",
    "\n",
    "$$\n",
    "\\left[\\begin{matrix}0.4545\\dots\\\\0.5454\\dots\\end{matrix}\\right]\n",
    "$$\n",
    "\n",
    "Coincidindo com o resultado que obtemos anteriormente para $24$ semanas.\n",
    "\n"
   ],
   "metadata": {
    "collapsed": false
   }
  },
  {
   "cell_type": "markdown",
   "source": [
    "## Dependências"
   ],
   "metadata": {
    "collapsed": false
   }
  },
  {
   "cell_type": "code",
   "execution_count": 164,
   "outputs": [
    {
     "name": "stdout",
     "output_type": "stream",
     "text": [
      "Requirement already satisfied: pip in ./venv/lib/python3.10/site-packages (22.3.1)\r\n",
      "Requirement already satisfied: pandas in ./venv/lib/python3.10/site-packages (1.5.2)\r\n",
      "Requirement already satisfied: python-dateutil>=2.8.1 in ./venv/lib/python3.10/site-packages (from pandas) (2.8.2)\r\n",
      "Requirement already satisfied: pytz>=2020.1 in ./venv/lib/python3.10/site-packages (from pandas) (2022.6)\r\n",
      "Requirement already satisfied: numpy>=1.21.0 in ./venv/lib/python3.10/site-packages (from pandas) (1.23.5)\r\n",
      "Requirement already satisfied: six>=1.5 in ./venv/lib/python3.10/site-packages (from python-dateutil>=2.8.1->pandas) (1.16.0)\r\n",
      "Requirement already satisfied: numpy in ./venv/lib/python3.10/site-packages (1.23.5)\r\n",
      "Requirement already satisfied: scipy in ./venv/lib/python3.10/site-packages (1.9.3)\r\n",
      "Requirement already satisfied: numpy<1.26.0,>=1.18.5 in ./venv/lib/python3.10/site-packages (from scipy) (1.23.5)\r\n",
      "Requirement already satisfied: matplotlib in ./venv/lib/python3.10/site-packages (3.6.2)\r\n",
      "Requirement already satisfied: pillow>=6.2.0 in ./venv/lib/python3.10/site-packages (from matplotlib) (9.3.0)\r\n",
      "Requirement already satisfied: pyparsing>=2.2.1 in ./venv/lib/python3.10/site-packages (from matplotlib) (3.0.9)\r\n",
      "Requirement already satisfied: contourpy>=1.0.1 in ./venv/lib/python3.10/site-packages (from matplotlib) (1.0.6)\r\n",
      "Requirement already satisfied: packaging>=20.0 in ./venv/lib/python3.10/site-packages (from matplotlib) (21.3)\r\n",
      "Requirement already satisfied: numpy>=1.19 in ./venv/lib/python3.10/site-packages (from matplotlib) (1.23.5)\r\n",
      "Requirement already satisfied: cycler>=0.10 in ./venv/lib/python3.10/site-packages (from matplotlib) (0.11.0)\r\n",
      "Requirement already satisfied: fonttools>=4.22.0 in ./venv/lib/python3.10/site-packages (from matplotlib) (4.38.0)\r\n",
      "Requirement already satisfied: python-dateutil>=2.7 in ./venv/lib/python3.10/site-packages (from matplotlib) (2.8.2)\r\n",
      "Requirement already satisfied: kiwisolver>=1.0.1 in ./venv/lib/python3.10/site-packages (from matplotlib) (1.4.4)\r\n",
      "Requirement already satisfied: six>=1.5 in ./venv/lib/python3.10/site-packages (from python-dateutil>=2.7->matplotlib) (1.16.0)\r\n",
      "Requirement already satisfied: seaborn in ./venv/lib/python3.10/site-packages (0.12.1)\r\n",
      "Requirement already satisfied: numpy>=1.17 in ./venv/lib/python3.10/site-packages (from seaborn) (1.23.5)\r\n",
      "Requirement already satisfied: pandas>=0.25 in ./venv/lib/python3.10/site-packages (from seaborn) (1.5.2)\r\n",
      "Requirement already satisfied: matplotlib!=3.6.1,>=3.1 in ./venv/lib/python3.10/site-packages (from seaborn) (3.6.2)\r\n",
      "Requirement already satisfied: kiwisolver>=1.0.1 in ./venv/lib/python3.10/site-packages (from matplotlib!=3.6.1,>=3.1->seaborn) (1.4.4)\r\n",
      "Requirement already satisfied: pillow>=6.2.0 in ./venv/lib/python3.10/site-packages (from matplotlib!=3.6.1,>=3.1->seaborn) (9.3.0)\r\n",
      "Requirement already satisfied: contourpy>=1.0.1 in ./venv/lib/python3.10/site-packages (from matplotlib!=3.6.1,>=3.1->seaborn) (1.0.6)\r\n",
      "Requirement already satisfied: packaging>=20.0 in ./venv/lib/python3.10/site-packages (from matplotlib!=3.6.1,>=3.1->seaborn) (21.3)\r\n",
      "Requirement already satisfied: fonttools>=4.22.0 in ./venv/lib/python3.10/site-packages (from matplotlib!=3.6.1,>=3.1->seaborn) (4.38.0)\r\n",
      "Requirement already satisfied: python-dateutil>=2.7 in ./venv/lib/python3.10/site-packages (from matplotlib!=3.6.1,>=3.1->seaborn) (2.8.2)\r\n",
      "Requirement already satisfied: pyparsing>=2.2.1 in ./venv/lib/python3.10/site-packages (from matplotlib!=3.6.1,>=3.1->seaborn) (3.0.9)\r\n",
      "Requirement already satisfied: cycler>=0.10 in ./venv/lib/python3.10/site-packages (from matplotlib!=3.6.1,>=3.1->seaborn) (0.11.0)\r\n",
      "Requirement already satisfied: pytz>=2020.1 in ./venv/lib/python3.10/site-packages (from pandas>=0.25->seaborn) (2022.6)\r\n",
      "Requirement already satisfied: six>=1.5 in ./venv/lib/python3.10/site-packages (from python-dateutil>=2.7->matplotlib!=3.6.1,>=3.1->seaborn) (1.16.0)\r\n",
      "Requirement already satisfied: ipython in ./venv/lib/python3.10/site-packages (8.7.0)\r\n",
      "Requirement already satisfied: backcall in ./venv/lib/python3.10/site-packages (from ipython) (0.2.0)\r\n",
      "Requirement already satisfied: pexpect>4.3 in ./venv/lib/python3.10/site-packages (from ipython) (4.8.0)\r\n",
      "Requirement already satisfied: traitlets>=5 in ./venv/lib/python3.10/site-packages (from ipython) (5.6.0)\r\n",
      "Requirement already satisfied: matplotlib-inline in ./venv/lib/python3.10/site-packages (from ipython) (0.1.6)\r\n",
      "Requirement already satisfied: pygments>=2.4.0 in ./venv/lib/python3.10/site-packages (from ipython) (2.13.0)\r\n",
      "Requirement already satisfied: stack-data in ./venv/lib/python3.10/site-packages (from ipython) (0.6.2)\r\n",
      "Requirement already satisfied: decorator in ./venv/lib/python3.10/site-packages (from ipython) (5.1.1)\r\n",
      "Requirement already satisfied: jedi>=0.16 in ./venv/lib/python3.10/site-packages (from ipython) (0.18.2)\r\n",
      "Requirement already satisfied: prompt-toolkit<3.1.0,>=3.0.11 in ./venv/lib/python3.10/site-packages (from ipython) (3.0.33)\r\n",
      "Requirement already satisfied: pickleshare in ./venv/lib/python3.10/site-packages (from ipython) (0.7.5)\r\n",
      "Requirement already satisfied: parso<0.9.0,>=0.8.0 in ./venv/lib/python3.10/site-packages (from jedi>=0.16->ipython) (0.8.3)\r\n",
      "Requirement already satisfied: ptyprocess>=0.5 in ./venv/lib/python3.10/site-packages (from pexpect>4.3->ipython) (0.7.0)\r\n",
      "Requirement already satisfied: wcwidth in ./venv/lib/python3.10/site-packages (from prompt-toolkit<3.1.0,>=3.0.11->ipython) (0.2.5)\r\n",
      "Requirement already satisfied: pure-eval in ./venv/lib/python3.10/site-packages (from stack-data->ipython) (0.2.2)\r\n",
      "Requirement already satisfied: executing>=1.2.0 in ./venv/lib/python3.10/site-packages (from stack-data->ipython) (1.2.0)\r\n",
      "Requirement already satisfied: asttokens>=2.1.0 in ./venv/lib/python3.10/site-packages (from stack-data->ipython) (2.2.0)\r\n",
      "Requirement already satisfied: six in ./venv/lib/python3.10/site-packages (from asttokens>=2.1.0->stack-data->ipython) (1.16.0)\r\n",
      "Requirement already satisfied: sympy in ./venv/lib/python3.10/site-packages (1.11.1)\r\n",
      "Requirement already satisfied: mpmath>=0.19 in ./venv/lib/python3.10/site-packages (from sympy) (1.2.1)\r\n"
     ]
    }
   ],
   "source": [
    "import sys\n",
    "!\"{sys.executable}\" -m pip install --upgrade pip\n",
    "!\"{sys.executable}\" -m pip install --upgrade pandas\n",
    "!\"{sys.executable}\" -m pip install --upgrade numpy\n",
    "!\"{sys.executable}\" -m pip install --upgrade scipy\n",
    "!\"{sys.executable}\" -m pip install --upgrade matplotlib\n",
    "!\"{sys.executable}\" -m pip install --upgrade seaborn\n",
    "!\"{sys.executable}\" -m pip install --upgrade sympy"
   ],
   "metadata": {
    "collapsed": false
   }
  },
  {
   "cell_type": "markdown",
   "source": [
    "## Algumas demonstrações de Cadeias de Markov"
   ],
   "metadata": {
    "collapsed": false
   }
  },
  {
   "cell_type": "markdown",
   "source": [
    "### Geração de Texto\n",
    "\n",
    "Uma aplicação que acho divertida das cadeias de Markov são geradores de texto. Existem algumas técnicas para se construir\n",
    "um gerador de textos a partir de cadeias de Markov, nessa implementação seguirei a partir da construção de n-gramas. N-gramas\n",
    "são conjuntos de $n$ caracteres, dividiremos nossos textos em n-gramas sobrepostos, onde cada n-grama será um estado da nossa\n",
    "cadeia.\n",
    "\n",
    "Aqui estou usando um dataset de tweets de um político brasileiro que se encontra muito quieto nos últimos dias. Por isso, geraremos\n",
    "alguns tweets dele para matar a saudade. /s\n",
    "\n",
    "Quanto maior o tamanho dos n-gramas, maior a coerência do texto, ao custo de menor variabilidade. Como nosso dataset é relativamente grande\n",
    "conseguimos usar tamanhos maiores sem muito prejuízo."
   ],
   "metadata": {
    "collapsed": false
   }
  },
  {
   "cell_type": "code",
   "execution_count": 211,
   "outputs": [
    {
     "data": {
      "text/plain": "            date                                               text  likes  \\\n2602  2019-11-03  Hoje no Domingo Espetacular (TV Record) por vo...  40266   \n6018         NaN  OU ACABAMOS C/ O PT OU O PT ACABA C/ A FAMÍLIA...    217   \n9260         NaN  Comissão de Ciência e Tecnologia da Câmara apr...   2126   \n891   2020-06-19  - Publicada a MP 984, do futebol brasileiro. M...  58945   \n5182         NaN  @CarlosBolsonaro é o vereador mais votado do R...    506   \n5469         NaN  G1: Conselho de Ética instaura processo contra...   2631   \n6421         NaN  BOLSONARO OFICIA SEU PARTIDO PARA CONCORRER À ...    184   \n193   2020-09-20  - Hoje, 20/setembro, é DIA do GAÚCHO.\n- Nossos...  47634   \n3927         NaN  Uma muito legal conversa sobre Brasil com Silv...  31399   \n813   2020-06-27  H. Publicada Portaria com orientações para pre...  13586   \n\n      retweets                                               link  \\\n2602      7094  https://twitter.com/jairbolsonaro/status/11910...   \n6018       148  https://twitter.com/jairbolsonaro/status/64172...   \n9260       630  https://twitter.com/jairbolsonaro/status/92576...   \n891       9726  https://twitter.com/jairbolsonaro/status/12740...   \n5182       144  https://twitter.com/jairbolsonaro/status/78291...   \n5469      1629  https://twitter.com/jairbolsonaro/status/74787...   \n6421       230  https://twitter.com/jairbolsonaro/status/45980...   \n193       5736  https://twitter.com/jairbolsonaro/status/13076...   \n3927      3591  https://twitter.com/jairbolsonaro/status/11252...   \n813       2086  https://twitter.com/jairbolsonaro/status/12770...   \n\n                                           text_cleaned  text_len  \n2602  hoje no domingo espetacular (tv record) por vo...        60  \n6018  ou acabamos c/ o pt ou o pt acaba c/ a família...        89  \n9260  comissão de ciência e tecnologia da câmara apr...       135  \n891   publicada a mp 984, do futebol brasileiro. med...       276  \n5182  @carlosbolsonaro é o vereador mais votado do r...        90  \n5469  g1: conselho de ética instaura processo contra...       115  \n6421  bolsonaro oficia seu partido para concorrer à ...        70  \n193   hoje, 20/setembro, é dia do gaúcho.\nnossos par...        80  \n3927  uma muito legal conversa sobre brasil com silv...        87  \n813   h. publicada portaria com orientações para pre...       195  ",
      "text/html": "<div>\n<style scoped>\n    .dataframe tbody tr th:only-of-type {\n        vertical-align: middle;\n    }\n\n    .dataframe tbody tr th {\n        vertical-align: top;\n    }\n\n    .dataframe thead th {\n        text-align: right;\n    }\n</style>\n<table border=\"1\" class=\"dataframe\">\n  <thead>\n    <tr style=\"text-align: right;\">\n      <th></th>\n      <th>date</th>\n      <th>text</th>\n      <th>likes</th>\n      <th>retweets</th>\n      <th>link</th>\n      <th>text_cleaned</th>\n      <th>text_len</th>\n    </tr>\n  </thead>\n  <tbody>\n    <tr>\n      <th>2602</th>\n      <td>2019-11-03</td>\n      <td>Hoje no Domingo Espetacular (TV Record) por vo...</td>\n      <td>40266</td>\n      <td>7094</td>\n      <td>https://twitter.com/jairbolsonaro/status/11910...</td>\n      <td>hoje no domingo espetacular (tv record) por vo...</td>\n      <td>60</td>\n    </tr>\n    <tr>\n      <th>6018</th>\n      <td>NaN</td>\n      <td>OU ACABAMOS C/ O PT OU O PT ACABA C/ A FAMÍLIA...</td>\n      <td>217</td>\n      <td>148</td>\n      <td>https://twitter.com/jairbolsonaro/status/64172...</td>\n      <td>ou acabamos c/ o pt ou o pt acaba c/ a família...</td>\n      <td>89</td>\n    </tr>\n    <tr>\n      <th>9260</th>\n      <td>NaN</td>\n      <td>Comissão de Ciência e Tecnologia da Câmara apr...</td>\n      <td>2126</td>\n      <td>630</td>\n      <td>https://twitter.com/jairbolsonaro/status/92576...</td>\n      <td>comissão de ciência e tecnologia da câmara apr...</td>\n      <td>135</td>\n    </tr>\n    <tr>\n      <th>891</th>\n      <td>2020-06-19</td>\n      <td>- Publicada a MP 984, do futebol brasileiro. M...</td>\n      <td>58945</td>\n      <td>9726</td>\n      <td>https://twitter.com/jairbolsonaro/status/12740...</td>\n      <td>publicada a mp 984, do futebol brasileiro. med...</td>\n      <td>276</td>\n    </tr>\n    <tr>\n      <th>5182</th>\n      <td>NaN</td>\n      <td>@CarlosBolsonaro é o vereador mais votado do R...</td>\n      <td>506</td>\n      <td>144</td>\n      <td>https://twitter.com/jairbolsonaro/status/78291...</td>\n      <td>@carlosbolsonaro é o vereador mais votado do r...</td>\n      <td>90</td>\n    </tr>\n    <tr>\n      <th>5469</th>\n      <td>NaN</td>\n      <td>G1: Conselho de Ética instaura processo contra...</td>\n      <td>2631</td>\n      <td>1629</td>\n      <td>https://twitter.com/jairbolsonaro/status/74787...</td>\n      <td>g1: conselho de ética instaura processo contra...</td>\n      <td>115</td>\n    </tr>\n    <tr>\n      <th>6421</th>\n      <td>NaN</td>\n      <td>BOLSONARO OFICIA SEU PARTIDO PARA CONCORRER À ...</td>\n      <td>184</td>\n      <td>230</td>\n      <td>https://twitter.com/jairbolsonaro/status/45980...</td>\n      <td>bolsonaro oficia seu partido para concorrer à ...</td>\n      <td>70</td>\n    </tr>\n    <tr>\n      <th>193</th>\n      <td>2020-09-20</td>\n      <td>- Hoje, 20/setembro, é DIA do GAÚCHO.\n- Nossos...</td>\n      <td>47634</td>\n      <td>5736</td>\n      <td>https://twitter.com/jairbolsonaro/status/13076...</td>\n      <td>hoje, 20/setembro, é dia do gaúcho.\nnossos par...</td>\n      <td>80</td>\n    </tr>\n    <tr>\n      <th>3927</th>\n      <td>NaN</td>\n      <td>Uma muito legal conversa sobre Brasil com Silv...</td>\n      <td>31399</td>\n      <td>3591</td>\n      <td>https://twitter.com/jairbolsonaro/status/11252...</td>\n      <td>uma muito legal conversa sobre brasil com silv...</td>\n      <td>87</td>\n    </tr>\n    <tr>\n      <th>813</th>\n      <td>2020-06-27</td>\n      <td>H. Publicada Portaria com orientações para pre...</td>\n      <td>13586</td>\n      <td>2086</td>\n      <td>https://twitter.com/jairbolsonaro/status/12770...</td>\n      <td>h. publicada portaria com orientações para pre...</td>\n      <td>195</td>\n    </tr>\n  </tbody>\n</table>\n</div>"
     },
     "execution_count": 211,
     "metadata": {},
     "output_type": "execute_result"
    }
   ],
   "source": [
    "import pandas as pd\n",
    "\n",
    "# Carregamento do dataset #\n",
    "df = pd.read_csv('datasets/tweets.csv')\n",
    "df.text = df.text.astype(\"string\")\n",
    "\n",
    "# Tratamento de texto #\n",
    "\n",
    "# Remoção de URLs\n",
    "url_regex = (\"\\\\.?\\\\s?((http|https)://|pic\\.)(www.)?\" +\n",
    "         \"[a-zA-Z0-9@:%._\\\\+~#?&//=]\" +\n",
    "         \"{1,256}\\\\.[a-z]\" +\n",
    "         \"{2,6}\\\\b([-a-zA-Z0-9@:%\" +\n",
    "         \"._\\\\+~#?&//=]*)\")\n",
    "# Remoção de indicadores de retweets\n",
    "rt_regex = r'rt @\\w+?:\\s?'\n",
    "# Remoção de indicadores de reply\n",
    "reply_regex = r'\\s?-\\s'\n",
    "\n",
    "\n",
    "# Conversão para minúsculo, seguido das remoções e outras limpezas\n",
    "df['text_cleaned'] = df.text.str.lower()\\\n",
    "    .str.replace(url_regex, \"\", regex=True)\\\n",
    "    .str.replace(rt_regex, \"\\n\", regex=True)\\\n",
    "    .str.replace(reply_regex, \"\\n\", regex=True)\\\n",
    "    .str.strip()\n",
    "\n",
    "# Filtragem dos tweets menores que 60 caracteres\n",
    "df['text_len'] = df.text_cleaned.str.len()\n",
    "df_filtered = df[df['text_len'] >= 60]\n",
    "\n",
    "# Alguns tweets\n",
    "df_filtered.sample(10)"
   ],
   "metadata": {
    "collapsed": false
   }
  },
  {
   "cell_type": "code",
   "execution_count": 170,
   "outputs": [],
   "source": [
    "from random import choice\n",
    "\n",
    "def build_markov_text_generator(texts, n_gram_size = 10):\n",
    "    starting_grams = [] # Possíveis estados iniciais\n",
    "    markov_transitions = {} # Transições de estado\n",
    "    allowed_starts = [chr(a) for a in range(ord('a'), ord('z') + 1)] + ['@'] # Filtragem de inícios permitidos\n",
    "\n",
    "    for text in texts:\n",
    "        # Carrega primeiro n-grama\n",
    "        starting_gram = text[:n_gram_size]\n",
    "        # Adiciona n-grama na lista de inícios\n",
    "        if starting_gram[0] in allowed_starts:\n",
    "            starting_grams.append(starting_gram)\n",
    "        # Computa transições dos n-gramas\n",
    "        for i in range(len(text) - n_gram_size + 1):\n",
    "            # Carrega n-grama atual\n",
    "            next_idx = i + n_gram_size\n",
    "            current_gram = text[i:next_idx]\n",
    "            # Próximo elemento\n",
    "            next_letter = None if next_idx == len(text) else text[next_idx]\n",
    "            # Adiciona nas transições de estado\n",
    "            if current_gram not in markov_transitions:\n",
    "                markov_transitions[current_gram] = [next_letter]\n",
    "            else:\n",
    "                markov_transitions[current_gram].append(next_letter)\n",
    "\n",
    "    return markov_transitions, starting_grams\n",
    "\n",
    "def generate_markov_text(markov_transitions, starting_grams, start=''):\n",
    "    n_gram_size = len(starting_grams[0])\n",
    "    current = start if len(start) >= n_gram_size else choice(starting_grams)\n",
    "    next = choice(markov_transitions[current[-n_gram_size:]])\n",
    "    while next != None:\n",
    "        current += next\n",
    "        next = choice(markov_transitions[current[-n_gram_size:]])\n",
    "    return current\n"
   ],
   "metadata": {
    "collapsed": false
   }
  },
  {
   "cell_type": "code",
   "execution_count": 208,
   "outputs": [
    {
     "data": {
      "text/plain": "2.315230249969882"
     },
     "execution_count": 208,
     "metadata": {},
     "output_type": "execute_result"
    }
   ],
   "source": [
    "import numpy as np\n",
    "\n",
    "transitions, startings = build_markov_text_generator(df_filtered.text_cleaned, 8)\n",
    "np.array([len(t) for t in transitions.values()]).mean()"
   ],
   "metadata": {
    "collapsed": false
   }
  },
  {
   "cell_type": "code",
   "execution_count": 210,
   "outputs": [
    {
     "data": {
      "text/plain": "<IPython.core.display.Markdown object>",
      "text/markdown": "> se aproveitem ao máximo, tornando de r\\$ 10,8 milhões por alguém ouviu o pt quer nos descredibilidade em suas conclusões:"
     },
     "metadata": {},
     "output_type": "display_data"
    },
    {
     "data": {
      "text/plain": "<IPython.core.display.Markdown object>",
      "text/markdown": "> atenção, custeio para carros de seus compromisso de hoje, cortando órgãos federais de alunos de esquerdo do pt q traz \"médicos\" cubanos no brasileiro o sentimento no brasil"
     },
     "metadata": {},
     "output_type": "display_data"
    },
    {
     "data": {
      "text/plain": "<IPython.core.display.Markdown object>",
      "text/markdown": "> legalização pelo exemplo, hoje comemoramos hoje aposentadorias, bolsa bate novo mercado indiano de como não começou no dia 24.\""
     },
     "metadata": {},
     "output_type": "display_data"
    },
    {
     "data": {
      "text/plain": "<IPython.core.display.Markdown object>",
      "text/markdown": "> mandem a maria do @minfraestruturas, o comprometida. oito mandado de criar burocracias do cone sul"
     },
     "metadata": {},
     "output_type": "display_data"
    },
    {
     "data": {
      "text/plain": "<IPython.core.display.Markdown object>",
      "text/markdown": "> após esta emocionado!"
     },
     "metadata": {},
     "output_type": "display_data"
    },
    {
     "data": {
      "text/plain": "<IPython.core.display.Markdown object>",
      "text/markdown": "> turismo e bioeconomia é um dos principal mensal de dezembro de 2019, realização do segundo o bndes, aos estados de 2019, gerando um alívio para operación lava-jato"
     },
     "metadata": {},
     "output_type": "display_data"
    },
    {
     "data": {
      "text/plain": "<IPython.core.display.Markdown object>",
      "text/markdown": "> vendas no varejo\n> havan e gazin, juntos assustada, do que é o principal e básica de juros da histórico, respondi c/ amor e menos custos em até 25% para agiliza a venda e a utilizada na câmara dos deputado que foram na linha até r\\$ 3,8 bi, bem acima de todo dia envolvendo a maratona\n> rio de janeiro e agosto desse ano lá, mas não pratiquem violência serão cumprido e temos que prefere uma sociedade que diante de barra da tijuca-rj. pudemos recurso, em casos como o maior integração de nossos povos!"
     },
     "metadata": {},
     "output_type": "display_data"
    },
    {
     "data": {
      "text/plain": "<IPython.core.display.Markdown object>",
      "text/markdown": "> organizado, bem como folha, estadão: a investimentos / @rsallesmma"
     },
     "metadata": {},
     "output_type": "display_data"
    },
    {
     "data": {
      "text/plain": "<IPython.core.display.Markdown object>",
      "text/markdown": "> o retorno. só com a não desanimem, pois o trabalho virtual atrito entre os países que institui a estradas, roubo de carga a todos por contra o aborto, bandidos nas últimas cartas dos policiais foram liberdade"
     },
     "metadata": {},
     "output_type": "display_data"
    },
    {
     "data": {
      "text/plain": "<IPython.core.display.Markdown object>",
      "text/markdown": "> as atividade no cronograma do pt q traz \"médicos pelo @mdregional_br , @rogeriosmarinho anunciou que parece que estamos ser o pregão das urnas.\n> pr jair bolsonaro )"
     },
     "metadata": {},
     "output_type": "display_data"
    }
   ],
   "source": [
    "from IPython.display import display, Markdown, Latex\n",
    "\n",
    "for i in range(10):\n",
    "    tweet = generate_markov_text(transitions, startings)\n",
    "    while len(tweet) < 20:\n",
    "        tweet = generate_markov_text(transitions, startings)\n",
    "    tweet = tweet.replace('$', '\\\\$')\n",
    "    tweet_lines = tweet.split('\\n')\n",
    "    tweet_lines = [t.strip() for t in tweet_lines]\n",
    "    tweet_lines = [t for t in tweet_lines if len(t) != 0]\n",
    "    md_tweet = \"> \" + \"\\n> \".join(tweet_lines)\n",
    "    display(Markdown(f'{md_tweet}'))"
   ],
   "metadata": {
    "collapsed": false
   }
  },
  {
   "cell_type": "markdown",
   "source": [
    "### Modelagem de Apostas\n",
    "\n",
    "Outra aplicação demonstrativa das cadeias de Markov são a modelagem de um sistema de apostas. Pela natureza das cadeias de Markov, definiremos uma estratégia simples de apostas e mediremos nossas\n",
    "chances de sucesso. Primeiramente, vamos definir nosso objetivo final como dobrar o nosso capital inicial. Assim, iremos apostar de unidade em unidade até que ou percamos tudo alcancemos nosso objetivo.\n",
    "\n",
    "Vamos definir um jogo onde temos uma chance $p = 0.49$ de dobrar nosso dinheiro. Em caso de derrota, perdemos todo o dinheiro apostado. Além disso, vamos definir um capital inicial de $50$ e um limite de 100 apostas."
   ],
   "metadata": {
    "collapsed": false
   }
  },
  {
   "cell_type": "code",
   "execution_count": 304,
   "outputs": [
    {
     "data": {
      "text/plain": "array([[9.93147323e-07],\n       [0.00000000e+00],\n       [1.25181976e-06],\n       [0.00000000e+00],\n       [3.67240132e-06],\n       [0.00000000e+00],\n       [9.30620034e-06],\n       [0.00000000e+00],\n       [2.22279196e-05],\n       [0.00000000e+00],\n       [5.05504873e-05],\n       [0.00000000e+00],\n       [1.09671720e-04],\n       [0.00000000e+00],\n       [2.27206340e-04],\n       [0.00000000e+00],\n       [4.49822739e-04],\n       [0.00000000e+00],\n       [8.51654026e-04],\n       [0.00000000e+00],\n       [1.54299671e-03],\n       [0.00000000e+00],\n       [2.67671270e-03],\n       [0.00000000e+00],\n       [4.44842132e-03],\n       [0.00000000e+00],\n       [7.08579804e-03],\n       [0.00000000e+00],\n       [1.08228529e-02],\n       [0.00000000e+00],\n       [1.58576017e-02],\n       [0.00000000e+00],\n       [2.22961975e-02],\n       [0.00000000e+00],\n       [3.00925802e-02],\n       [0.00000000e+00],\n       [3.89982275e-02],\n       [0.00000000e+00],\n       [4.85392378e-02],\n       [0.00000000e+00],\n       [5.80355854e-02],\n       [0.00000000e+00],\n       [6.66691827e-02],\n       [0.00000000e+00],\n       [7.35947673e-02],\n       [0.00000000e+00],\n       [7.80741874e-02],\n       [0.00000000e+00],\n       [7.96050538e-02],\n       [0.00000000e+00],\n       [7.80129528e-02],\n       [0.00000000e+00],\n       [7.34839424e-02],\n       [0.00000000e+00],\n       [6.65290142e-02],\n       [0.00000000e+00],\n       [5.78898415e-02],\n       [0.00000000e+00],\n       [4.84096968e-02],\n       [0.00000000e+00],\n       [3.89003410e-02],\n       [0.00000000e+00],\n       [3.00333515e-02],\n       [0.00000000e+00],\n       [2.22744774e-02],\n       [0.00000000e+00],\n       [1.58662353e-02],\n       [0.00000000e+00],\n       [1.08516823e-02],\n       [0.00000000e+00],\n       [7.12451955e-03],\n       [0.00000000e+00],\n       [4.48860763e-03],\n       [0.00000000e+00],\n       [2.71275432e-03],\n       [0.00000000e+00],\n       [1.57209728e-03],\n       [0.00000000e+00],\n       [8.73226827e-04],\n       [0.00000000e+00],\n       [4.64667307e-04],\n       [0.00000000e+00],\n       [2.36751168e-04],\n       [0.00000000e+00],\n       [1.15430915e-04],\n       [0.00000000e+00],\n       [5.38211517e-05],\n       [0.00000000e+00],\n       [2.39816469e-05],\n       [0.00000000e+00],\n       [1.02037898e-05],\n       [0.00000000e+00],\n       [4.14177767e-06],\n       [0.00000000e+00],\n       [1.60070820e-06],\n       [0.00000000e+00],\n       [5.83098219e-07],\n       [0.00000000e+00],\n       [1.83478504e-07],\n       [0.00000000e+00],\n       [1.34372028e-07]])"
     },
     "execution_count": 304,
     "metadata": {},
     "output_type": "execute_result"
    }
   ],
   "source": [
    "initial_capital = 50\n",
    "limit = 100\n",
    "p = 0.49\n",
    "\n",
    "# Building transition matrix #\n",
    "transition_matrix = np.zeros(shape=[initial_capital*2+1, initial_capital*2+1])\n",
    "# Finishing States\n",
    "transition_matrix[0][0] = 1\n",
    "transition_matrix[initial_capital*2][initial_capital*2] = 1\n",
    "# Other States\n",
    "for i in range(1, initial_capital*2):\n",
    "    transition_matrix[i+1][i] = p\n",
    "    transition_matrix[i-1][i] = 1 - p\n",
    "\n",
    "# Initial State Probability Vector\n",
    "initial_p_vector = np.zeros(shape=[initial_capital*2 + 1, 1])\n",
    "initial_p_vector[initial_capital] = 1\n",
    "\n",
    "# Prediction\n",
    "pred = np.linalg.matrix_power(transition_matrix, 100) @ initial_p_vector\n",
    "pred"
   ],
   "metadata": {
    "collapsed": false
   }
  },
  {
   "cell_type": "code",
   "execution_count": 303,
   "outputs": [
    {
     "name": "stdout",
     "output_type": "stream",
     "text": [
      "Chance de prejuízo: 54.007%\n",
      "Chance de ganho ou neutro: 45.993%\n"
     ]
    }
   ],
   "source": [
    "print(f\"Chance de prejuízo: {sum(pred[:50])[0] * 100:.3f}%\")\n",
    "print(f\"Chance de ganho ou neutro: {sum(pred[50:])[0] * 100:.3f}%\")"
   ],
   "metadata": {
    "collapsed": false
   }
  },
  {
   "cell_type": "markdown",
   "source": [
    "## Bônus: Recorrências Lineares\n",
    "\n",
    "Outra aplicação de álgebra linear que acho particularmente interessante é a solução de recorrências lineares a partir do uso de matrizes.\n",
    "\n",
    "É possível representar recorrências lineares como transformações sob um estado inicial. Permitindo resolver problemas de recorrência a\n",
    "partir da exponenciação de matrizes. Segue uma representação geral\n",
    "\n",
    "Seja uma $f(n+1) = a_n f(n) + \\cdots + a_{n-k} f(n-k)$ (uma recorrência linear que depende dos $k$ últimos termos), podemos representá-la pela matriz:\n",
    "\n",
    "$$\n",
    "\\begin{bmatrix}\n",
    "    a_n & a_{n-1} & a_{n-2} & \\cdots & a_{n-k + 1} & a_{n-k} \\\\\n",
    "    1 & 0 & 0 & \\cdots & 0 & 0 \\\\\n",
    "    0 & 1 & 0 & \\cdots & 0 & 0 \\\\\n",
    "    0 & 0 & 1 & \\cdots & 0 & 0 \\\\\n",
    "    \\vdots & \\vdots & \\vdots & \\ddots \\\\\n",
    "    0 & 0 & 0 & \\cdots & 1 & 0 \\\\\n",
    "\n",
    "\\end{bmatrix}\n",
    "$$\n",
    "\n",
    "Podemos interpretar essa matriz como a construção da combinação linear dos elementos anteriores sendo executada na primeira linha e um deslocamento dos\n",
    "demais elementos nas linhas seguintes (formando a diagonal deslocada de 1s).\n",
    "\n",
    "Dessa forma, ao multiplicá-la por um conjunto inicial de elementos, iremos obter:\n",
    "\n",
    "$$\n",
    "[M] \\cdot \\begin{bmatrix}\n",
    "f(n) \\\\\n",
    "f(n - 1) \\\\\n",
    "\\vdots \\\\\n",
    "f(n - k)\n",
    "\\end{bmatrix} = \\begin{bmatrix}\n",
    "f(n + 1) \\\\\n",
    "f(n) \\\\\n",
    "\\vdots \\\\\n",
    "f(n - k + 1)\n",
    "\\end{bmatrix}\n",
    "$$\n",
    "\n",
    "Isso nos permite simplificar a computação de recorrências lineares de $O(n\\cdot k)$ para $O(\\log_2(n) \\cdot k^3)$ (fazendo o uso do algoritmo de exponenciação rápida por divisão e conquista)."
   ],
   "metadata": {
    "collapsed": false
   }
  },
  {
   "cell_type": "code",
   "execution_count": 312,
   "outputs": [
    {
     "name": "stdout",
     "output_type": "stream",
     "text": [
      "N-ésima transformação de Fibonacci: n=28\n"
     ]
    },
    {
     "data": {
      "text/plain": "Matrix([\n[514229, 317811],\n[317811, 196418]])",
      "text/latex": "$\\displaystyle \\left[\\begin{matrix}514229 & 317811\\\\317811 & 196418\\end{matrix}\\right]$"
     },
     "metadata": {},
     "output_type": "display_data"
    },
    {
     "data": {
      "text/plain": "Matrix([\n[832040],\n[514229]])",
      "text/latex": "$\\displaystyle \\left[\\begin{matrix}832040\\\\514229\\end{matrix}\\right]$"
     },
     "metadata": {},
     "output_type": "display_data"
    },
    {
     "name": "stdout",
     "output_type": "stream",
     "text": [
      "fib(30)\n"
     ]
    },
    {
     "data": {
      "text/plain": "832040",
      "text/latex": "$\\displaystyle 832040$"
     },
     "metadata": {},
     "output_type": "display_data"
    }
   ],
   "source": [
    "import sympy as sp\n",
    "from IPython.display import display\n",
    "\n",
    "fib_mat = sp.Matrix([[1, 1], [1, 0]])\n",
    "fib_init = sp.Matrix([[1], [1]])\n",
    "\n",
    "# Exemplo n-ésimo número de Fibonacci\n",
    "n = 30\n",
    "mat_exp = fib_mat ** (n - 2)\n",
    "values = mat_exp @ fib_init\n",
    "result = values[0]\n",
    "\n",
    "print(f\"N-ésima transformação de Fibonacci: n={n-2}\")\n",
    "display(mat_exp)\n",
    "display(values)\n",
    "print(f\"fib({n})\")\n",
    "display(result)"
   ],
   "metadata": {
    "collapsed": false
   }
  },
  {
   "cell_type": "markdown",
   "source": [
    "### Exemplos Fibonacci\n",
    "\n",
    "![Números de Fibonacci](assets/fibs.png)"
   ],
   "metadata": {
    "collapsed": false
   }
  },
  {
   "cell_type": "markdown",
   "source": [
    "## Referências\n",
    "\n",
    "- <https://en.wikibooks.org/wiki/Linear_Algebra/Topic:_Markov_Chains>\n",
    "- <https://www.cs.bu.edu/fac/crovella/cs132-book/L11MarkovChains.html>\n",
    "- <https://en.wikibooks.org/wiki/Linear_Algebra/Topic:_Linear_Recurrences>"
   ],
   "metadata": {
    "collapsed": false
   }
  }
 ],
 "metadata": {
  "kernelspec": {
   "display_name": "Python 3",
   "language": "python",
   "name": "python3"
  },
  "language_info": {
   "codemirror_mode": {
    "name": "ipython",
    "version": 2
   },
   "file_extension": ".py",
   "mimetype": "text/x-python",
   "name": "python",
   "nbconvert_exporter": "python",
   "pygments_lexer": "ipython2",
   "version": "2.7.6"
  }
 },
 "nbformat": 4,
 "nbformat_minor": 0
}
